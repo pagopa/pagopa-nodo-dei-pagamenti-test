{
 "cells": [
  {
   "cell_type": "code",
   "execution_count": null,
   "metadata": {},
   "outputs": [],
   "source": [
    "import re\n",
    "\n",
    "\n",
    "body = \"SELECT columns FROM table_name WHERE NOTICE_ID = $activatePaymentNotice.noticeNumber AND PAYMENT_TOKEN = $activatePaymentNoticeResponse.paymentToken-v2\"\n",
    "\n",
    "#pattern = re.compile('\\\\$\\\\w+\\\\.\\\\w+')\n",
    "#pattern = re.compile(r'\\$\\w+\\.\\w+(?:-v2)?')\n",
    "pattern = re.compile('\\\\$\\\\w+\\\\.\\\\w+(?:-\\\\w+)?')\n",
    "\n",
    "match = pattern.findall(body)\n",
    "\n",
    "\n",
    "for field in match:\n",
    "\n",
    "    tag_finale = ''\n",
    "    if len(field.replace('$', '').split('.')) > 1:\n",
    "        tag = field.replace('$', '').split('.')[1]\n",
    "        \n",
    "        if '-' in tag:\n",
    "            tag_finale = tag.split('-')[1]\n",
    "\n",
    "        value = '50ac00a4f211453985d4ea158de8efc2'\n",
    "    if len(tag_finale) > 1:\n",
    "        body = body.replace(field, f'$${value}-{tag_finale}$$')\n",
    "    else:\n",
    "        body = body.replace(field, f'$${value}$$')\n",
    "\n",
    "print(body)"
   ]
  },
  {
   "cell_type": "code",
   "execution_count": null,
   "metadata": {},
   "outputs": [],
   "source": [
    "pippo = list()\n",
    "bo = True\n",
    "body = 'aswde'\n",
    "print(type(body))\n",
    "\n",
    "if pippo is None:\n",
    "    print('sono none')"
   ]
  },
  {
   "cell_type": "code",
   "execution_count": null,
   "metadata": {},
   "outputs": [],
   "source": [
    "query = \"SELECT s.UPDATED_TIMESTAMP FROM POSITION_PAYMENT s WHERE s.NOTICE_ID = '002141419769434930' AND s.PA_FISCAL_CODE = $$66666666666$$\"\n",
    "\n",
    "query = \"UPDATE s.UPDATED_TIMESTAMP FROM POSITION_PAYMENT s WHERE s.NOTICE_ID = '002141419769434930' AND s.PA_FISCAL_CODE = $$66666666666$$\"\n",
    "\n",
    "\n",
    "if query.startswith(\"SELECT\"):\n",
    "    print(f\"La stringa '{query}' inizia con SELECT.\")\n",
    "elif query.startswith(\"UPDATE\"):\n",
    "    print(f\"La stringa '{query}' non inizia con UPDATE.\")\n"
   ]
  },
  {
   "cell_type": "code",
   "execution_count": 5,
   "metadata": {},
   "outputs": [
    {
     "name": "stdout",
     "output_type": "stream",
     "text": [
      "8UVHgT8mjO2uGd\n"
     ]
    },
    {
     "data": {
      "text/plain": [
       "str"
      ]
     },
     "execution_count": 5,
     "metadata": {},
     "output_type": "execute_result"
    }
   ],
   "source": [
    "import random\n",
    "import string\n",
    "\n",
    "def genera_stringa():\n",
    "    lunghezza = random.randint(2, 18)\n",
    "    caratteri = string.ascii_letters + string.digits\n",
    "    return ''.join(random.choice(caratteri) for _ in range(lunghezza))\n",
    "\n",
    "# Esempio di utilizzo\n",
    "stringa_generata = genera_stringa()\n",
    "print(stringa_generata)\n",
    "type(stringa_generata)"
   ]
  },
  {
   "cell_type": "code",
   "execution_count": null,
   "metadata": {},
   "outputs": [],
   "source": [
    "import json\n",
    "import os\n",
    "import shutil\n",
    "\n",
    "def filter_allure_results(input_dir, output_dir):\n",
    "    if not os.path.exists(output_dir):\n",
    "        os.makedirs(output_dir)\n",
    "\n",
    "\n",
    "    desired_status = \"failed,broken\"\n",
    "    list_status = desired_status.split(\",\")\n",
    "    len_list_status = len(list_status)\n",
    "\n",
    "    # for filename in os.listdir(input_dir):\n",
    "    #     if filename.endswith(\".json\"):\n",
    "    #         input_path = os.path.join(input_dir, filename)\n",
    "\n",
    "    #         with open(input_path, \"r\", encoding=\"utf-8\") as file:\n",
    "    #             data = json.load(file)\n",
    "\n",
    "    #         # Verifica lo stato del test nel file JSON\n",
    "    #         test_status = data.get(\"status\")\n",
    "\n",
    "    #         if test_status.lower() == desired_status.lower():\n",
    "    #             output_path = os.path.join(output_dir, filename)\n",
    "    #             shutil.copyfile(input_path, output_path)\n",
    "\n",
    "    #             # Copia gli allegati nella stessa cartella dei file JSON\n",
    "    #             if \"attachments\" in data:\n",
    "    #                 for attachment in data[\"attachments\"]:\n",
    "    #                     attachment_file = attachment.get(\"source\")\n",
    "    #                     if attachment_file:\n",
    "    #                         attachment_path = os.path.join(output_dir, attachment_file)\n",
    "    #                         os.makedirs(os.path.dirname(attachment_path), exist_ok=True)\n",
    "    #                         shutil.copyfile(os.path.join(input_dir, attachment_file), attachment_path)\n",
    "\n",
    "\n",
    "if __name__ == \"__main__\":\n",
    "    # Imposta i percorsi delle directory\n",
    "    input_directory = \"C:/Users/luca.acone/report_gen/logs\"\n",
    "    output_directory = \"C:/Users/luca.acone/report_gen/output\"\n",
    "\n",
    "    # Imposta lo stato desiderato (\"failed\", \"broken\", ecc.)\n",
    "    desired_status = \"failed\"\n",
    "\n",
    "    # Filtra i risultati di Allure\n",
    "    filter_allure_results(input_directory, output_directory)\n",
    "\n",
    "    print(f\"I file JSON con stato '{desired_status}' sono stati filtrati con successo in {output_directory}\")"
   ]
  },
  {
   "cell_type": "code",
   "execution_count": 21,
   "metadata": {},
   "outputs": [],
   "source": [
    "import json\n",
    "import csv\n",
    "import os\n",
    "import glob\n",
    "import pandas as pd\n",
    "\n",
    "# Cartella contenente i file JSON di Allure\n",
    "folder_path = 'C:/Users/luca.acone/report_gen/output1'\n",
    "\n",
    "#Output Path\n",
    "output_path = 'C:/Users/luca.acone/report_gen/output.xlsx'\n",
    "\n",
    "# Elenco dei file JSON nella cartella\n",
    "json_files = glob.glob(os.path.join(folder_path, '*.json'))\n",
    "\n",
    "# Inizializza una lista per memorizzare tutti i dati\n",
    "all_data = []\n",
    "\n",
    "# Itera su tutti i file JSON\n",
    "for json_file in json_files:\n",
    "    # Carica il report Allure in formato JSON\n",
    "    with open(json_file) as f:\n",
    "        data = json.load(f)\n",
    "       # print(json.dumps(data, indent=2)) \n",
    "\n",
    "        test_name = data.get('name')\n",
    "        status = data.get('status')\n",
    "        statusDetails = data.get('statusDetails')\n",
    "        error_message = ''\n",
    "        if not statusDetails is None:\n",
    "            error_message = statusDetails.get('message')\n",
    "\n",
    "        all_data.append([test_name, status, error_message])\n",
    "\n",
    "# Scrivi tutti i dati in un unico file Excel\n",
    "df = pd.DataFrame(all_data, columns=['Test Name', 'Status', 'Error Message'])\n",
    "#df.to_excel('C:/Users/luca.acone/report_gen/output.xlsx', index=False)\n",
    "\n",
    "# Scrivi tutti i dati in un unico file Excel\n",
    "\n",
    "df.to_excel(output_path, index=False, sheet_name='Report', engine='openpyxl')"
   ]
  }
 ],
 "metadata": {
  "kernelspec": {
   "display_name": "Python 3",
   "language": "python",
   "name": "python3"
  },
  "language_info": {
   "codemirror_mode": {
    "name": "ipython",
    "version": 3
   },
   "file_extension": ".py",
   "mimetype": "text/x-python",
   "name": "python",
   "nbconvert_exporter": "python",
   "pygments_lexer": "ipython3",
   "version": "3.11.5"
  }
 },
 "nbformat": 4,
 "nbformat_minor": 2
}
