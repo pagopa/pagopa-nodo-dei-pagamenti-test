{
 "cells": [
  {
   "cell_type": "code",
   "execution_count": 11,
   "metadata": {},
   "outputs": [
    {
     "name": "stdout",
     "output_type": "stream",
     "text": [
      "SELECT columns FROM table_name WHERE NOTICE_ID = $$50ac00a4f211453985d4ea158de8efc2$$ AND PAYMENT_TOKEN = $$50ac00a4f211453985d4ea158de8efc2-v2$$\n"
     ]
    }
   ],
   "source": [
    "import re\n",
    "\n",
    "\n",
    "body = \"SELECT columns FROM table_name WHERE NOTICE_ID = $activatePaymentNotice.noticeNumber AND PAYMENT_TOKEN = $activatePaymentNoticeResponse.paymentToken-v2\"\n",
    "\n",
    "#pattern = re.compile('\\\\$\\\\w+\\\\.\\\\w+')\n",
    "#pattern = re.compile(r'\\$\\w+\\.\\w+(?:-v2)?')\n",
    "pattern = re.compile('\\\\$\\\\w+\\\\.\\\\w+(?:-\\\\w+)?')\n",
    "\n",
    "match = pattern.findall(body)\n",
    "\n",
    "\n",
    "for field in match:\n",
    "\n",
    "    tag_finale = ''\n",
    "    if len(field.replace('$', '').split('.')) > 1:\n",
    "        tag = field.replace('$', '').split('.')[1]\n",
    "        \n",
    "        if '-' in tag:\n",
    "            tag_finale = tag.split('-')[1]\n",
    "\n",
    "        value = '50ac00a4f211453985d4ea158de8efc2'\n",
    "    if len(tag_finale) > 1:\n",
    "        body = body.replace(field, f'$${value}-{tag_finale}$$')\n",
    "    else:\n",
    "        body = body.replace(field, f'$${value}$$')\n",
    "\n",
    "print(body)"
   ]
  },
  {
   "cell_type": "code",
   "execution_count": 3,
   "metadata": {},
   "outputs": [],
   "source": [
    "pippo = list()\n",
    "bo = True\n",
    "\n",
    "if pippo is None:\n",
    "    print('sono none')"
   ]
  }
 ],
 "metadata": {
  "kernelspec": {
   "display_name": "Python 3",
   "language": "python",
   "name": "python3"
  },
  "language_info": {
   "codemirror_mode": {
    "name": "ipython",
    "version": 3
   },
   "file_extension": ".py",
   "mimetype": "text/x-python",
   "name": "python",
   "nbconvert_exporter": "python",
   "pygments_lexer": "ipython3",
   "version": "3.11.3"
  }
 },
 "nbformat": 4,
 "nbformat_minor": 2
}
