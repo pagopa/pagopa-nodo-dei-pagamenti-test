{
 "cells": [
  {
   "cell_type": "code",
   "execution_count": 48,
   "metadata": {},
   "outputs": [
    {
     "name": "stdout",
     "output_type": "stream",
     "text": [
      "['FDD', 'FDD2', 'FDD3']\n"
     ]
    }
   ],
   "source": [
    "import xml.etree.ElementTree as ET\n",
    "\n",
    "\n",
    "xml_string = \"\"\"<main>\n",
    "  <event>\n",
    "    <pippo>\n",
    "        <party>FDD</party>\n",
    "    </pippo>    \n",
    "    <children type=\"me\" value=\"3\"/>\n",
    "  </event>\n",
    "  <event>\n",
    "    <pippo>\n",
    "        <party>FDD2</party>\n",
    "    </pippo>    \n",
    "    <children type=\"me\" value=\"3\"/>\n",
    "  </event>\n",
    "    <event>\n",
    "    <pippo>\n",
    "        <party>FDD3</party>\n",
    "    </pippo>    \n",
    "    <children type=\"me\" value=\"3\"/>\n",
    "  </event>\n",
    "</main>\"\"\"\n",
    "\n",
    "    \n",
    "\n",
    "# print(listTag[2])\n",
    "    \n",
    "# if \"FDD2\" in listTag:\n",
    "#     print(\"Evviva\")\n",
    "# print(listTag)\n",
    "\n",
    "# def searchTag(tag_padre, listTag, size_list, root):\n",
    "#  # print(\"allinizio\", tag_padre)\n",
    "#   value_searched = []\n",
    "#   for single_tag in root.findall(tag_padre):\n",
    "#     for pippo in single_tag:\n",
    "#       party = pippo.find('party')\n",
    "#     #  print(party.text)\n",
    "#       value_searched.append(party.text)\n",
    "#     return value_searched\n",
    "#    # print(\"entro nel for\", tag_padre)\n",
    "\n",
    "#     index_single_tag = listTag.index(tag_padre)\n",
    "\n",
    "#     # if index_single_tag == size_list - 1:\n",
    "#     #   value_tag = single_tag.text\n",
    "#     #   return value_tag\n",
    "#     # else:\n",
    "#     #   new_tag_padre = listTag[index_single_tag + 1]\n",
    "#     #   listTag.remove(tag_padre)\n",
    "\n",
    "#     #   print(\"sono nell'eslse con il new tag padre\", new_tag_padre)\n",
    "      \n",
    "#     #  searchTag(new_tag_padre, listTag, len(listTag), root)\n",
    "\n",
    "    \n",
    "\n",
    "# def searchTagValueXML(xml_string, path_tag):\n",
    "#     listTag = path_tag.split(\".\")\n",
    "#     size_list = len(listTag)\n",
    "\n",
    "#     tag_padre = listTag[0]\n",
    "#     tag = listTag[size_list-1]\n",
    "\n",
    "#     tree = ET.ElementTree(ET.fromstring(xml_string))\n",
    "#     root = tree.getroot()\n",
    "#     listTagValue = searchTag(tag_padre, listTag, size_list, root)\n",
    "#     return listTagValue\n",
    "\n",
    "    # for single_tag in root.findall(tag_padre):\n",
    "    #   if listTag.index(single_tag) == size_list - 1:\n",
    "    #     value_tag = single_tag.text\n",
    "    #     listTagValue.append(value_tag)\n",
    "    #     return listTagValue\n",
    "    #   else:\n",
    "    #     for pippo in single_tag:\n",
    "    #         party = pippo.find(tag)\n",
    "    #         if party is None:\n",
    "    #             continue\n",
    "    #         parties = party.text\n",
    "    #         listTagValue.append(parties)\n",
    "    \n",
    "#event.pippo.party\n",
    "#tree = ET.parse('party.xml')\n",
    "tree = ET.ElementTree(ET.fromstring(xml_string))\n",
    "root = tree.getroot()\n",
    "listTag = []\n",
    "\n",
    "for event in root.findall('event'):\n",
    "     for pippo in event:\n",
    "         party = pippo.find('party')\n",
    "         if party is None:\n",
    "             continue\n",
    "         parties = party.text\n",
    "         listTag.append(parties)\n",
    "\n",
    "#listTag = searchTagValueXML(xml_string, \"event.pippo.party\")\n",
    "print(listTag)\n",
    "\n",
    "    "
   ]
  },
  {
   "cell_type": "code",
   "execution_count": 8,
   "metadata": {},
   "outputs": [
    {
     "name": "stdout",
     "output_type": "stream",
     "text": [
      "wewe\n"
     ]
    }
   ],
   "source": [
    "import xml.etree.ElementTree as ET\n",
    "\n",
    "\n",
    "xml_string = \"\"\"<main>\n",
    "  <event>\n",
    "    <pippo>\n",
    "        <party>FDD</party>\n",
    "    </pippo>    \n",
    "    <children type=\"me\" value=\"3\"/>\n",
    "  </event>\n",
    "  <event>\n",
    "    <pippo>\n",
    "        <party>FDD2</party>\n",
    "    </pippo>    \n",
    "    <children type=\"me\" value=\"3\"/>\n",
    "  </event>\n",
    "    <event>\n",
    "    <pippo>\n",
    "        \n",
    "    </pippo>    \n",
    "    <children type=\"me\" value=\"3\"/>\n",
    "  </event>\n",
    "</main>\"\"\"\n",
    "\n",
    "xml_string1 = \"\"\"<ooo>\n",
    "  <event>\n",
    "    <second>wewe</second>\n",
    "    <pippo>\n",
    "        <party>FDD</party>\n",
    "    </pippo>    \n",
    "    <children type=\"me\" value=\"3\"/>\n",
    "  </event>\n",
    "  <prova>ciao</prova>\n",
    "</ooo>\"\"\"\n",
    "\n",
    "def searchTagValueXML(xml_string, path_tag):\n",
    "    tree = ET.ElementTree(ET.fromstring(xml_string))\n",
    "    root = tree.getroot()\n",
    "    listTag = []\n",
    "   \n",
    "    for event in root.findall('event'):\n",
    "      for pippo in event:\n",
    "          party = pippo.find('party')\n",
    "          if party is None:\n",
    "              continue\n",
    "          parties = party.text\n",
    "          listTag.append(parties)\n",
    "    return listTag\n",
    "\n",
    "#print(searchTagValueXML(xml_string, \"event.pippo.party\"))\n",
    "\n",
    "\n",
    "def searchTag(xml_string, path_tag):\n",
    "\n",
    "  listTag = path_tag.split(\".\")\n",
    "  size_list = len(listTag)\n",
    "\n",
    "  tag_padre = listTag[0]\n",
    "  tag = listTag[size_list-1]\n",
    "\n",
    "  tree = ET.ElementTree(ET.fromstring(xml_string))\n",
    "  root = tree.getroot()\n",
    "  listTag = []\n",
    "\n",
    "  for single_tag in root.findall(tag_padre):\n",
    "    if tag_padre == tag:\n",
    "      listTag = single_tag.text\n",
    "      return listTag\n",
    "    else:\n",
    "       for next_tag in single_tag:\n",
    "          if next_tag.tag == tag:\n",
    "            listTag = next_tag.text\n",
    "            return listTag\n",
    "\n",
    "print(searchTag(xml_string1, \"event.second\"))"
   ]
  },
  {
   "cell_type": "code",
   "execution_count": 4,
   "metadata": {},
   "outputs": [
    {
     "name": "stdout",
     "output_type": "stream",
     "text": [
      "10.000\n"
     ]
    }
   ],
   "source": [
    "print(format(float(10), '.2f'))"
   ]
  },
  {
   "cell_type": "code",
   "execution_count": 38,
   "metadata": {},
   "outputs": [
    {
     "name": "stdout",
     "output_type": "stream",
     "text": [
      "['FDD', 'FDD2', 'FDD3']\n"
     ]
    }
   ],
   "source": [
    "####FUNZIONAAAAAAAAAAAAAAAAAAAAAA\n",
    "import xml.etree.ElementTree as ET\n",
    "\n",
    "xml_string1 = \"\"\"<ooo>\n",
    "  <event>\n",
    "    <second>wewe</second>\n",
    "    <pippo>\n",
    "        <party>FDD</party>\n",
    "    </pippo>    \n",
    "    <children type=\"me\" value=\"3\"/>\n",
    "  </event>\n",
    "  <prova>ciao</prova>\n",
    "</ooo>\"\"\"\n",
    "\n",
    "xml_string = \"\"\"<main>\n",
    "  <event>\n",
    "    <pippo>\n",
    "        <party>FDD</party>\n",
    "    </pippo>    \n",
    "    <children type=\"me\" value=\"3\"/>\n",
    "  </event>\n",
    "  <event>\n",
    "    <pippo>\n",
    "        <party>FDD2</party>\n",
    "    </pippo>    \n",
    "    <children type=\"me\" value=\"3\"/>\n",
    "  </event>\n",
    "    <event>\n",
    "    <pippo>\n",
    "        <party>FDD3</party>\n",
    "    </pippo>    \n",
    "    <children type=\"me\" value=\"3\"/>\n",
    "  </event>\n",
    "</main>\"\"\"\n",
    "\n",
    "def searchValueTag(xml_string, path_tag, flag_all_value_tag):\n",
    "  list_tag = path_tag.split(\".\")\n",
    "  size_list = len(list_tag)\n",
    "\n",
    "  tag_padre = list_tag[0]\n",
    "  tag = list_tag[size_list-1]\n",
    "\n",
    "  tree = ET.ElementTree(ET.fromstring(xml_string))\n",
    "  root = tree.getroot()\n",
    "  list_value_tag = []\n",
    "  full_list_tag = []\n",
    "  for single_tag in root.findall('.//pippo/'):\n",
    "    list_value_tag = searchValueTagRecursive(tag_padre, tag, single_tag)\n",
    "    full_list_tag.append(list_value_tag)\n",
    "    if flag_all_value_tag == False:\n",
    "      if list_value_tag: break\n",
    "  return full_list_tag\n",
    "\n",
    "\n",
    "def searchValueTagRecursive(tag_padre, tag, single_tag):\n",
    "  listTag = []\n",
    "\n",
    "  if tag_padre == tag:\n",
    "    listTag = single_tag.text\n",
    "  else:\n",
    "    for next_tag in single_tag:\n",
    "      listTag = searchValueTagRecursive(next_tag.tag, tag, next_tag)\n",
    "      if listTag: break\n",
    "  return listTag      \n",
    "\n",
    "print(searchValueTag(xml_string, \"party\", True))"
   ]
  },
  {
   "cell_type": "code",
   "execution_count": 37,
   "metadata": {},
   "outputs": [
    {
     "name": "stdout",
     "output_type": "stream",
     "text": [
      "['companySec']\n"
     ]
    }
   ],
   "source": [
    "import xml.etree.ElementTree as ET\n",
    "from xml.dom.minidom import parseString\n",
    "import utils as utils\n",
    "\n",
    "xml_string3 = \"\"\"\n",
    "<soapenv:Envelope xmlns:xsi=\"http://www.w3.org/2001/XMLSchema-instance\" xmlns:soapenv=\"http://schemas.xmlsoap.org/soap/envelope/\" xmlns:xs=\"http://www.w3.org/2001/XMLSchema\" xmlns:common=\"http://pagopa-api.pagopa.gov.it/xsd/common-types/v1.0.0/\" xmlns:nfp=\"http://pagopa-api.pagopa.gov.it/node/nodeForPsp.xsd\">\n",
    "\t<soapenv:Body>\n",
    "\t\t<nfp:activatePaymentNoticeV2Response>\n",
    "\t\t\t<outcome>OK</outcome>\n",
    "\t\t\t<totalAmount>10.00</totalAmount>\n",
    "\t\t\t<paymentDescription>test</paymentDescription>\n",
    "\t\t\t<fiscalCodePA>66666666666</fiscalCodePA>\n",
    "\t\t\t<companyName>company</companyName>\n",
    "\t\t\t<officeName>office</officeName>\n",
    "\t\t\t<paymentToken>7c2ad122e1fa4a358b417e28cbdb9cf8</paymentToken>\n",
    "\t\t\t<transferList>\n",
    "\t\t\t\t<transfer>\n",
    "\t\t\t\t\t<idTransfer>1</idTransfer>\n",
    "\t\t\t\t\t<transferAmount>10.00</transferAmount>\n",
    "\t\t\t\t\t<fiscalCodePA>66666666666</fiscalCodePA>\n",
    "\t\t\t\t\t<companyName>companySec</companyName>\n",
    "\t\t\t\t\t<richiestaMarcaDaBollo>\n",
    "\t\t\t\t\t\t<hashDocumento>wHpFSLCGZjIvNSXxqtGbxg7275t446DRTk5ZrsdUQ6E=</hashDocumento>\n",
    "\t\t\t\t\t\t<tipoBollo>01</tipoBollo>\n",
    "\t\t\t\t\t\t<provinciaResidenza>MI</provinciaResidenza>\n",
    "\t\t\t\t\t</richiestaMarcaDaBollo>\n",
    "\t\t\t\t\t<remittanceInformation>/RFB/00202200000217527/5.00/TXT/</remittanceInformation>\n",
    "\t\t\t\t\t<transferCategory>paGetPaymentTest</transferCategory>\n",
    "\t\t\t\t</transfer>\n",
    "\t\t\t</transferList>\n",
    "\t\t\t<metadata/>\n",
    "\t\t\t<creditorReferenceId>10115665239332597</creditorReferenceId>\n",
    "\t\t</nfp:activatePaymentNoticeV2Response>\n",
    "\t</soapenv:Body>\n",
    "</soapenv:Envelope>\n",
    "\t\t\"\"\"\n",
    "def searchValueTag(xml_string, path_tag, flag_all_value_tag):\n",
    "  list_tag = path_tag.split(\".\")\n",
    "  size_list = len(list_tag)\n",
    "\n",
    "  tag_padre = list_tag[0]\n",
    "  tag = list_tag[size_list-1]\n",
    "\n",
    "  tree = ET.ElementTree(ET.fromstring(xml_string))\n",
    "  root = tree.getroot()\n",
    "  list_value_tag = []\n",
    "  full_list_tag = []\n",
    "  for single_tag in root.findall('.//' + tag_padre):\n",
    "    list_value_tag = searchValueTagRecursive(tag_padre, tag, single_tag)\n",
    "    full_list_tag.append(list_value_tag)\n",
    "    if flag_all_value_tag == False:\n",
    "      if list_value_tag: break\n",
    "  return full_list_tag\n",
    "\n",
    "\n",
    "def searchValueTagRecursive(tag_padre, tag, single_tag):\n",
    "  listTag = []\n",
    "\n",
    "  if tag_padre == tag:\n",
    "    listTag = single_tag.text\n",
    "  else:\n",
    "    for next_tag in single_tag:\n",
    "      listTag = searchValueTagRecursive(next_tag.tag, tag, next_tag)\n",
    "      if listTag: break\n",
    "  return listTag      \n",
    "\n",
    "\n",
    "\n",
    "my_document = parseString(xml_string3)\n",
    "\n",
    "data = my_document.toxml()\n",
    "#print(data)\n",
    "#data = my_document.getElementsByTagName(\"richiestaMarcaDaBollo\")[0].firstChild.\n",
    "#print(data)\n",
    "\n",
    "print(searchValueTag(data, \"transferList.transfer.companyName\", False))"
   ]
  },
  {
   "cell_type": "code",
   "execution_count": 51,
   "metadata": {},
   "outputs": [],
   "source": [
    "x = []\n",
    "\n",
    "if x == True:\n",
    "    print(\"x pieno\")\n",
    "elif x == False:\n",
    "    print(\"x vuoto\")\n",
    "    \n",
    "\n"
   ]
  },
  {
   "cell_type": "code",
   "execution_count": 29,
   "metadata": {},
   "outputs": [
    {
     "name": "stdout",
     "output_type": "stream",
     "text": [
      "3\n",
      "pippo\n"
     ]
    }
   ],
   "source": [
    "path_tag = \"event.pippo.party\"\n",
    "\n",
    "listTag = path_tag.split(\".\")\n",
    "size_list = len(listTag)\n",
    "\n",
    "listTag.index('party')\n",
    "print(size_list)\n",
    "\n",
    "index_single_tag = listTag.index('event')\n",
    "\n",
    "\n",
    "new_tag_padre = listTag[index_single_tag + 1]\n",
    "print(new_tag_padre)\n"
   ]
  },
  {
   "cell_type": "code",
   "execution_count": 5,
   "metadata": {},
   "outputs": [
    {
     "name": "stdout",
     "output_type": "stream",
     "text": [
      "XML\n"
     ]
    }
   ],
   "source": [
    "from enum import Enum\n",
    "\n",
    "class Type(Enum):\n",
    "    JSON = 'JSON'\n",
    "    XML = 'XML'\n",
    "\n",
    "my_type = Type.XML.value\n",
    "print(my_type)"
   ]
  },
  {
   "cell_type": "code",
   "execution_count": 19,
   "metadata": {},
   "outputs": [
    {
     "name": "stdout",
     "output_type": "stream",
     "text": [
      "2023-10-18 17:41:20\n"
     ]
    }
   ],
   "source": [
    "import datetime\n",
    "import time\n",
    "from datetime import timedelta\n",
    "import pytz\n",
    "\n",
    "\n",
    "\n",
    "date = (datetime.datetime.now().astimezone(pytz.timezone('Europe/Rome')).strftime(\"%Y-%m-%d %H:%M:%S\"))\n",
    "#date = (datetime.datetime.now().astimezone(pytz.timezone('Europe/Rome')) - datetime.timedelta(minutes = 5)).strftime(\"%Y-%m-%d %H:%M:%S\")\n",
    "print(date)"
   ]
  },
  {
   "cell_type": "code",
   "execution_count": 1,
   "metadata": {},
   "outputs": [
    {
     "name": "stdout",
     "output_type": "stream",
     "text": [
      "Dominio estratto: chat.openai.com\n"
     ]
    }
   ],
   "source": [
    "from urllib.parse import urlparse\n",
    "\n",
    "def estrapola_dominio_da_url(url):\n",
    "    parsed_url = urlparse(url)\n",
    "    dominio = parsed_url.netloc\n",
    "    return dominio\n",
    "\n",
    "# Esempio con l'URL fornito\n",
    "url = \"https://luca.lorenzo.com/c/ee4dbf85-5522-4b94-8455-d1d623ccb785\"\n",
    "dominio = estrapola_dominio_da_url(url)\n",
    "\n",
    "print(\"Dominio estratto:\", dominio)"
   ]
  },
  {
   "cell_type": "code",
   "execution_count": 7,
   "metadata": {},
   "outputs": [
    {
     "name": "stdout",
     "output_type": "stream",
     "text": [
      "None\n"
     ]
    }
   ],
   "source": [
    "from xml.etree.ElementTree import fromstring\n",
    "\n",
    "def step_impl(tag, payload):\n",
    "\n",
    "    # Verifica se il payload è un XML\n",
    "    try:\n",
    "        root = fromstring(payload)\n",
    "\n",
    "        # Verifica se il tag è presente nell'XML\n",
    "        assert root.find(\".//{}\".format(tag)) is None, f\"Il tag '{tag}' è presente nell'XML.\"\n",
    "\n",
    "    except Exception as e:\n",
    "        # Gestisce l'eccezione se il parsing XML fallisce\n",
    "        raise ValueError(f\"Errore nel parsing XML: {e}\")\n",
    "\n",
    "# Esempio di utilizzo\n",
    "xml_payload = '<?xml version=\"1.0\" encoding=\"UTF-8\" standalone=\"no\" ?><soapenv:Envelope xmlns:xsi=\"http://www.w3.org/2001/XMLSchema-instance\" xmlns:soapenv=\"http://schemas.xmlsoap.org/soap/envelope/\" xmlns:tns=\"http://pagopa-api.pagopa.gov.it/paForNode\" xmlns:common=\"http://pagopa-api.pagopa.gov.it/xsd/common-types/v1.0.0/\" xmlns:pafn=\"http://pagopa-api.pagopa.gov.it/pa/paForNode.xsd\"><soapenv:Body><pafn:paSendRTReq><idPA>66666666666</idPA><idBrokerPA>irraggiungibile</idBrokerPA><idStation>irraggiungibile</idStation><receipt><receiptId>d2df2a3c447d4209823392341e2ffe3f</receiptId><noticeNumber>346111644285132633</noticeNumber><fiscalCode>66666666666</fiscalCode><outcome>OK</outcome><creditorReferenceId>46111644285132633</creditorReferenceId><paymentAmount>10.00</paymentAmount><description>description</description><companyName>company</companyName><officeName>office</officeName><debtor><uniqueIdentifier><entityUniqueIdentifierType>G</entityUniqueIdentifierType><entityUniqueIdentifierValue>66666666666</entityUniqueIdentifierValue></uniqueIdentifier><fullName>paGetPaymentName</fullName><streetName>paGetPaymentStreet</streetName><civicNumber>paGetPayment99</civicNumber><postalCode>20155</postalCode><city>paGetPaymentCity</city><stateProvinceRegion>paGetPaymentState</stateProvinceRegion><country>IT</country><e-mail>paGetPayment@test.it</e-mail></debtor><transferList><transfer><idTransfer>1</idTransfer><transferAmount>10.00</transferAmount><fiscalCodePA>66666666666</fiscalCodePA><IBAN>IT45R0760103200000000001016</IBAN><remittanceInformation>testPaGetPayment</remittanceInformation><transferCategory>paGetPaymentTest</transferCategory></transfer></transferList><idPSP>60000000001</idPSP><pspFiscalCode>CF60000000006</pspFiscalCode><PSPCompanyName>PSP Paolo</PSPCompanyName><idChannel>60000000001_01</idChannel><channelDescription>app</channelDescription><payer><uniqueIdentifier><entityUniqueIdentifierType>G</entityUniqueIdentifierType><entityUniqueIdentifierValue>77777777777_01</entityUniqueIdentifierValue></uniqueIdentifier><fullName>name</fullName><streetName>street</streetName><civicNumber>civic</civicNumber><postalCode>postal</postalCode><city>city</city><stateProvinceRegion>state</stateProvinceRegion><country>IT</country><e-mail>prova@test.it</e-mail></payer><paymentMethod>creditCard</paymentMethod><fee>2.00</fee><paymentDateTime>2023-12-01T14:11:35</paymentDateTime><applicationDate>2021-12-12</applicationDate><transferDate>2021-12-11</transferDate><metadata><mapEntry><key>1</key><value>22</value></mapEntry></metadata></receipt></pafn:paSendRTReq></soapenv:Body></soapenv:Envelope>'\n",
    "print(step_impl('tag2', xml_payload))"
   ]
  }
 ],
 "metadata": {
  "kernelspec": {
   "display_name": "Python 3",
   "language": "python",
   "name": "python3"
  },
  "language_info": {
   "codemirror_mode": {
    "name": "ipython",
    "version": 3
   },
   "file_extension": ".py",
   "mimetype": "text/x-python",
   "name": "python",
   "nbconvert_exporter": "python",
   "pygments_lexer": "ipython3",
   "version": "3.11.5"
  },
  "orig_nbformat": 4
 },
 "nbformat": 4,
 "nbformat_minor": 2
}
