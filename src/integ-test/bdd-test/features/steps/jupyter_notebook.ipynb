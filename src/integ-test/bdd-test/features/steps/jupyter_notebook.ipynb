{
 "cells": [
  {
   "cell_type": "code",
   "execution_count": 11,
   "metadata": {},
   "outputs": [
    {
     "name": "stdout",
     "output_type": "stream",
     "text": [
      "SELECT columns FROM table_name WHERE NOTICE_ID = $$50ac00a4f211453985d4ea158de8efc2$$ AND PAYMENT_TOKEN = $$50ac00a4f211453985d4ea158de8efc2-v2$$\n"
     ]
    }
   ],
   "source": [
    "import re\n",
    "\n",
    "\n",
    "body = \"SELECT columns FROM table_name WHERE NOTICE_ID = $activatePaymentNotice.noticeNumber AND PAYMENT_TOKEN = $activatePaymentNoticeResponse.paymentToken-v2\"\n",
    "\n",
    "#pattern = re.compile('\\\\$\\\\w+\\\\.\\\\w+')\n",
    "#pattern = re.compile(r'\\$\\w+\\.\\w+(?:-v2)?')\n",
    "pattern = re.compile('\\\\$\\\\w+\\\\.\\\\w+(?:-\\\\w+)?')\n",
    "\n",
    "match = pattern.findall(body)\n",
    "\n",
    "\n",
    "for field in match:\n",
    "\n",
    "    tag_finale = ''\n",
    "    if len(field.replace('$', '').split('.')) > 1:\n",
    "        tag = field.replace('$', '').split('.')[1]\n",
    "        \n",
    "        if '-' in tag:\n",
    "            tag_finale = tag.split('-')[1]\n",
    "\n",
    "        value = '50ac00a4f211453985d4ea158de8efc2'\n",
    "    if len(tag_finale) > 1:\n",
    "        body = body.replace(field, f'$${value}-{tag_finale}$$')\n",
    "    else:\n",
    "        body = body.replace(field, f'$${value}$$')\n",
    "\n",
    "print(body)"
   ]
  },
  {
   "cell_type": "code",
   "execution_count": 2,
   "metadata": {},
   "outputs": [
    {
     "name": "stdout",
     "output_type": "stream",
     "text": [
      "<class 'str'>\n"
     ]
    }
   ],
   "source": [
    "pippo = list()\n",
    "bo = True\n",
    "body = 'aswde'\n",
    "print(type(body))\n",
    "\n",
    "if pippo is None:\n",
    "    print('sono none')"
   ]
  },
  {
   "cell_type": "code",
   "execution_count": 2,
   "metadata": {},
   "outputs": [
    {
     "name": "stdout",
     "output_type": "stream",
     "text": [
      "La stringa 'UPDATE s.UPDATED_TIMESTAMP FROM POSITION_PAYMENT s WHERE s.NOTICE_ID = '002141419769434930' AND s.PA_FISCAL_CODE = $$66666666666$$' non inizia con UPDATE.\n"
     ]
    }
   ],
   "source": [
    "query = \"SELECT s.UPDATED_TIMESTAMP FROM POSITION_PAYMENT s WHERE s.NOTICE_ID = '002141419769434930' AND s.PA_FISCAL_CODE = $$66666666666$$\"\n",
    "\n",
    "query = \"UPDATE s.UPDATED_TIMESTAMP FROM POSITION_PAYMENT s WHERE s.NOTICE_ID = '002141419769434930' AND s.PA_FISCAL_CODE = $$66666666666$$\"\n",
    "\n",
    "\n",
    "if query.startswith(\"SELECT\"):\n",
    "    print(f\"La stringa '{query}' inizia con SELECT.\")\n",
    "elif query.startswith(\"UPDATE\"):\n",
    "    print(f\"La stringa '{query}' non inizia con UPDATE.\")\n"
   ]
  },
  {
   "cell_type": "code",
   "execution_count": 2,
   "metadata": {},
   "outputs": [
    {
     "ename": "KeyboardInterrupt",
     "evalue": "",
     "output_type": "error",
     "traceback": [
      "\u001b[1;31m---------------------------------------------------------------------------\u001b[0m",
      "\u001b[1;31mKeyboardInterrupt\u001b[0m                         Traceback (most recent call last)",
      "Cell \u001b[1;32mIn[2], line 47\u001b[0m\n\u001b[0;32m     44\u001b[0m desired_status \u001b[38;5;241m=\u001b[39m \u001b[38;5;124m\"\u001b[39m\u001b[38;5;124mfailed\u001b[39m\u001b[38;5;124m\"\u001b[39m\n\u001b[0;32m     46\u001b[0m \u001b[38;5;66;03m# Filtra i risultati di Allure\u001b[39;00m\n\u001b[1;32m---> 47\u001b[0m \u001b[43mfilter_allure_results\u001b[49m\u001b[43m(\u001b[49m\u001b[43minput_directory\u001b[49m\u001b[43m,\u001b[49m\u001b[43m \u001b[49m\u001b[43moutput_directory\u001b[49m\u001b[43m)\u001b[49m\n\u001b[0;32m     49\u001b[0m \u001b[38;5;28mprint\u001b[39m(\u001b[38;5;124mf\u001b[39m\u001b[38;5;124m\"\u001b[39m\u001b[38;5;124mI file JSON con stato \u001b[39m\u001b[38;5;124m'\u001b[39m\u001b[38;5;132;01m{\u001b[39;00mdesired_status\u001b[38;5;132;01m}\u001b[39;00m\u001b[38;5;124m'\u001b[39m\u001b[38;5;124m sono stati filtrati con successo in \u001b[39m\u001b[38;5;132;01m{\u001b[39;00moutput_directory\u001b[38;5;132;01m}\u001b[39;00m\u001b[38;5;124m\"\u001b[39m)\n",
      "Cell \u001b[1;32mIn[2], line 12\u001b[0m, in \u001b[0;36mfilter_allure_results\u001b[1;34m(input_dir, output_dir)\u001b[0m\n\u001b[0;32m     10\u001b[0m desired_status \u001b[38;5;241m=\u001b[39m \u001b[38;5;124m\"\u001b[39m\u001b[38;5;124mfailed,broken\u001b[39m\u001b[38;5;124m\"\u001b[39m\n\u001b[0;32m     11\u001b[0m list_status \u001b[38;5;241m=\u001b[39m desired_status\u001b[38;5;241m.\u001b[39msplit(\u001b[38;5;124m\"\u001b[39m\u001b[38;5;124m,\u001b[39m\u001b[38;5;124m\"\u001b[39m)\n\u001b[1;32m---> 12\u001b[0m len_list_status \u001b[38;5;241m=\u001b[39m \u001b[38;5;28;43mlen\u001b[39;49m(list_status)\n",
      "Cell \u001b[1;32mIn[2], line 12\u001b[0m, in \u001b[0;36mfilter_allure_results\u001b[1;34m(input_dir, output_dir)\u001b[0m\n\u001b[0;32m     10\u001b[0m desired_status \u001b[38;5;241m=\u001b[39m \u001b[38;5;124m\"\u001b[39m\u001b[38;5;124mfailed,broken\u001b[39m\u001b[38;5;124m\"\u001b[39m\n\u001b[0;32m     11\u001b[0m list_status \u001b[38;5;241m=\u001b[39m desired_status\u001b[38;5;241m.\u001b[39msplit(\u001b[38;5;124m\"\u001b[39m\u001b[38;5;124m,\u001b[39m\u001b[38;5;124m\"\u001b[39m)\n\u001b[1;32m---> 12\u001b[0m len_list_status \u001b[38;5;241m=\u001b[39m \u001b[38;5;28;43mlen\u001b[39;49m(list_status)\n",
      "File \u001b[1;32m~\\AppData\\Roaming\\Python\\Python311\\site-packages\\debugpy\\_vendored\\pydevd\\_pydevd_bundle\\pydevd_frame.py:1197\u001b[0m, in \u001b[0;36mPyDBFrame.trace_dispatch\u001b[1;34m(self, frame, event, arg)\u001b[0m\n\u001b[0;32m   1195\u001b[0m \u001b[38;5;28;01mif\u001b[39;00m is_line:\n\u001b[0;32m   1196\u001b[0m     \u001b[38;5;28mself\u001b[39m\u001b[38;5;241m.\u001b[39mset_suspend(thread, step_cmd, original_step_cmd\u001b[38;5;241m=\u001b[39minfo\u001b[38;5;241m.\u001b[39mpydev_original_step_cmd)\n\u001b[1;32m-> 1197\u001b[0m     \u001b[38;5;28;43mself\u001b[39;49m\u001b[38;5;241;43m.\u001b[39;49m\u001b[43mdo_wait_suspend\u001b[49m\u001b[43m(\u001b[49m\u001b[43mthread\u001b[49m\u001b[43m,\u001b[49m\u001b[43m \u001b[49m\u001b[43mframe\u001b[49m\u001b[43m,\u001b[49m\u001b[43m \u001b[49m\u001b[43mevent\u001b[49m\u001b[43m,\u001b[49m\u001b[43m \u001b[49m\u001b[43marg\u001b[49m\u001b[43m)\u001b[49m\n\u001b[0;32m   1198\u001b[0m \u001b[38;5;28;01melif\u001b[39;00m is_return:  \u001b[38;5;66;03m# return event\u001b[39;00m\n\u001b[0;32m   1199\u001b[0m     back \u001b[38;5;241m=\u001b[39m frame\u001b[38;5;241m.\u001b[39mf_back\n",
      "File \u001b[1;32m~\\AppData\\Roaming\\Python\\Python311\\site-packages\\debugpy\\_vendored\\pydevd\\_pydevd_bundle\\pydevd_frame.py:165\u001b[0m, in \u001b[0;36mPyDBFrame.do_wait_suspend\u001b[1;34m(self, *args, **kwargs)\u001b[0m\n\u001b[0;32m    164\u001b[0m \u001b[38;5;28;01mdef\u001b[39;00m \u001b[38;5;21mdo_wait_suspend\u001b[39m(\u001b[38;5;28mself\u001b[39m, \u001b[38;5;241m*\u001b[39margs, \u001b[38;5;241m*\u001b[39m\u001b[38;5;241m*\u001b[39mkwargs):\n\u001b[1;32m--> 165\u001b[0m     \u001b[38;5;28;43mself\u001b[39;49m\u001b[38;5;241;43m.\u001b[39;49m\u001b[43m_args\u001b[49m\u001b[43m[\u001b[49m\u001b[38;5;241;43m0\u001b[39;49m\u001b[43m]\u001b[49m\u001b[38;5;241;43m.\u001b[39;49m\u001b[43mdo_wait_suspend\u001b[49m\u001b[43m(\u001b[49m\u001b[38;5;241;43m*\u001b[39;49m\u001b[43margs\u001b[49m\u001b[43m,\u001b[49m\u001b[43m \u001b[49m\u001b[38;5;241;43m*\u001b[39;49m\u001b[38;5;241;43m*\u001b[39;49m\u001b[43mkwargs\u001b[49m\u001b[43m)\u001b[49m\n",
      "File \u001b[1;32m~\\AppData\\Roaming\\Python\\Python311\\site-packages\\debugpy\\_vendored\\pydevd\\pydevd.py:2070\u001b[0m, in \u001b[0;36mPyDB.do_wait_suspend\u001b[1;34m(self, thread, frame, event, arg, exception_type)\u001b[0m\n\u001b[0;32m   2067\u001b[0m             from_this_thread\u001b[38;5;241m.\u001b[39mappend(frame_custom_thread_id)\n\u001b[0;32m   2069\u001b[0m     \u001b[38;5;28;01mwith\u001b[39;00m \u001b[38;5;28mself\u001b[39m\u001b[38;5;241m.\u001b[39m_threads_suspended_single_notification\u001b[38;5;241m.\u001b[39mnotify_thread_suspended(thread_id, thread, stop_reason):\n\u001b[1;32m-> 2070\u001b[0m         keep_suspended \u001b[38;5;241m=\u001b[39m \u001b[38;5;28;43mself\u001b[39;49m\u001b[38;5;241;43m.\u001b[39;49m\u001b[43m_do_wait_suspend\u001b[49m\u001b[43m(\u001b[49m\u001b[43mthread\u001b[49m\u001b[43m,\u001b[49m\u001b[43m \u001b[49m\u001b[43mframe\u001b[49m\u001b[43m,\u001b[49m\u001b[43m \u001b[49m\u001b[43mevent\u001b[49m\u001b[43m,\u001b[49m\u001b[43m \u001b[49m\u001b[43marg\u001b[49m\u001b[43m,\u001b[49m\u001b[43m \u001b[49m\u001b[43msuspend_type\u001b[49m\u001b[43m,\u001b[49m\u001b[43m \u001b[49m\u001b[43mfrom_this_thread\u001b[49m\u001b[43m,\u001b[49m\u001b[43m \u001b[49m\u001b[43mframes_tracker\u001b[49m\u001b[43m)\u001b[49m\n\u001b[0;32m   2072\u001b[0m frames_list \u001b[38;5;241m=\u001b[39m \u001b[38;5;28;01mNone\u001b[39;00m\n\u001b[0;32m   2074\u001b[0m \u001b[38;5;28;01mif\u001b[39;00m keep_suspended:\n\u001b[0;32m   2075\u001b[0m     \u001b[38;5;66;03m# This means that we should pause again after a set next statement.\u001b[39;00m\n",
      "File \u001b[1;32m~\\AppData\\Roaming\\Python\\Python311\\site-packages\\debugpy\\_vendored\\pydevd\\pydevd.py:2106\u001b[0m, in \u001b[0;36mPyDB._do_wait_suspend\u001b[1;34m(self, thread, frame, event, arg, suspend_type, from_this_thread, frames_tracker)\u001b[0m\n\u001b[0;32m   2103\u001b[0m         \u001b[38;5;28mself\u001b[39m\u001b[38;5;241m.\u001b[39m_call_input_hook()\n\u001b[0;32m   2105\u001b[0m     \u001b[38;5;28mself\u001b[39m\u001b[38;5;241m.\u001b[39mprocess_internal_commands()\n\u001b[1;32m-> 2106\u001b[0m     time\u001b[38;5;241m.\u001b[39msleep(\u001b[38;5;241m0.01\u001b[39m)\n\u001b[0;32m   2108\u001b[0m \u001b[38;5;28mself\u001b[39m\u001b[38;5;241m.\u001b[39mcancel_async_evaluation(get_current_thread_id(thread), \u001b[38;5;28mstr\u001b[39m(\u001b[38;5;28mid\u001b[39m(frame)))\n\u001b[0;32m   2110\u001b[0m \u001b[38;5;66;03m# process any stepping instructions\u001b[39;00m\n",
      "\u001b[1;31mKeyboardInterrupt\u001b[0m: "
     ]
    }
   ],
   "source": [
    "import json\n",
    "import os\n",
    "import shutil\n",
    "\n",
    "def filter_allure_results(input_dir, output_dir):\n",
    "    if not os.path.exists(output_dir):\n",
    "        os.makedirs(output_dir)\n",
    "\n",
    "\n",
    "    desired_status = \"failed,broken\"\n",
    "    list_status = desired_status.split(\",\")\n",
    "    len_list_status = len(list_status)\n",
    "\n",
    "    # for filename in os.listdir(input_dir):\n",
    "    #     if filename.endswith(\".json\"):\n",
    "    #         input_path = os.path.join(input_dir, filename)\n",
    "\n",
    "    #         with open(input_path, \"r\", encoding=\"utf-8\") as file:\n",
    "    #             data = json.load(file)\n",
    "\n",
    "    #         # Verifica lo stato del test nel file JSON\n",
    "    #         test_status = data.get(\"status\")\n",
    "\n",
    "    #         if test_status.lower() == desired_status.lower():\n",
    "    #             output_path = os.path.join(output_dir, filename)\n",
    "    #             shutil.copyfile(input_path, output_path)\n",
    "\n",
    "    #             # Copia gli allegati nella stessa cartella dei file JSON\n",
    "    #             if \"attachments\" in data:\n",
    "    #                 for attachment in data[\"attachments\"]:\n",
    "    #                     attachment_file = attachment.get(\"source\")\n",
    "    #                     if attachment_file:\n",
    "    #                         attachment_path = os.path.join(output_dir, attachment_file)\n",
    "    #                         os.makedirs(os.path.dirname(attachment_path), exist_ok=True)\n",
    "    #                         shutil.copyfile(os.path.join(input_dir, attachment_file), attachment_path)\n",
    "\n",
    "\n",
    "if __name__ == \"__main__\":\n",
    "    # Imposta i percorsi delle directory\n",
    "    input_directory = \"C:/Users/luca.acone/report_gen/logs\"\n",
    "    output_directory = \"C:/Users/luca.acone/report_gen/output\"\n",
    "\n",
    "    # Imposta lo stato desiderato (\"failed\", \"broken\", ecc.)\n",
    "    desired_status = \"failed\"\n",
    "\n",
    "    # Filtra i risultati di Allure\n",
    "    filter_allure_results(input_directory, output_directory)\n",
    "\n",
    "    print(f\"I file JSON con stato '{desired_status}' sono stati filtrati con successo in {output_directory}\")"
   ]
  }
 ],
 "metadata": {
  "kernelspec": {
   "display_name": "Python 3",
   "language": "python",
   "name": "python3"
  },
  "language_info": {
   "codemirror_mode": {
    "name": "ipython",
    "version": 3
   },
   "file_extension": ".py",
   "mimetype": "text/x-python",
   "name": "python",
   "nbconvert_exporter": "python",
   "pygments_lexer": "ipython3",
   "version": "3.11.3"
  }
 },
 "nbformat": 4,
 "nbformat_minor": 2
}
