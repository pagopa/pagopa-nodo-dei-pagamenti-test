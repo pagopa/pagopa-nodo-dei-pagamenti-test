{
 "cells": [
  {
   "cell_type": "code",
   "execution_count": 8,
   "metadata": {},
   "outputs": [
    {
     "ename": "KeyboardInterrupt",
     "evalue": "",
     "output_type": "error",
     "traceback": [
      "\u001b[1;31m---------------------------------------------------------------------------\u001b[0m",
      "\u001b[1;31mKeyboardInterrupt\u001b[0m                         Traceback (most recent call last)",
      "\u001b[1;32mc:\\Users\\luca.acone\\OneDrive - Accenture\\Desktop\\pagopanew\\pagopa-nodo-dei-pagamenti-test\\src\\integ-test\\bdd-test\\features\\steps\\jupyter_notebook.ipynb Cella 1\u001b[0m line \u001b[0;36m1\n\u001b[0;32m      <a href='vscode-notebook-cell:/c%3A/Users/luca.acone/OneDrive%20-%20Accenture/Desktop/pagopanew/pagopa-nodo-dei-pagamenti-test/src/integ-test/bdd-test/features/steps/jupyter_notebook.ipynb#W0sZmlsZQ%3D%3D?line=7'>8</a>\u001b[0m pattern \u001b[39m=\u001b[39m re\u001b[39m.\u001b[39mcompile(\u001b[39m'\u001b[39m\u001b[39m\\\\\u001b[39;00m\u001b[39m$\u001b[39m\u001b[39m\\\\\u001b[39;00m\u001b[39mw+\u001b[39m\u001b[39m\\\\\u001b[39;00m\u001b[39m.\u001b[39m\u001b[39m\\\\\u001b[39;00m\u001b[39mw+(?:-\u001b[39m\u001b[39m\\\\\u001b[39;00m\u001b[39mw+)?\u001b[39m\u001b[39m'\u001b[39m)\n\u001b[0;32m     <a href='vscode-notebook-cell:/c%3A/Users/luca.acone/OneDrive%20-%20Accenture/Desktop/pagopanew/pagopa-nodo-dei-pagamenti-test/src/integ-test/bdd-test/features/steps/jupyter_notebook.ipynb#W0sZmlsZQ%3D%3D?line=9'>10</a>\u001b[0m match \u001b[39m=\u001b[39m pattern\u001b[39m.\u001b[39mfindall(body)\n\u001b[1;32m---> <a href='vscode-notebook-cell:/c%3A/Users/luca.acone/OneDrive%20-%20Accenture/Desktop/pagopanew/pagopa-nodo-dei-pagamenti-test/src/integ-test/bdd-test/features/steps/jupyter_notebook.ipynb#W0sZmlsZQ%3D%3D?line=12'>13</a>\u001b[0m \u001b[39mfor\u001b[39;00m field \u001b[39min\u001b[39;00m match:\n\u001b[0;32m     <a href='vscode-notebook-cell:/c%3A/Users/luca.acone/OneDrive%20-%20Accenture/Desktop/pagopanew/pagopa-nodo-dei-pagamenti-test/src/integ-test/bdd-test/features/steps/jupyter_notebook.ipynb#W0sZmlsZQ%3D%3D?line=13'>14</a>\u001b[0m     saved_elem \u001b[39m=\u001b[39m \u001b[39mgetattr\u001b[39m(context, field\u001b[39m.\u001b[39mreplace(\u001b[39m'\u001b[39m\u001b[39m$\u001b[39m\u001b[39m'\u001b[39m, \u001b[39m'\u001b[39m\u001b[39m'\u001b[39m)\u001b[39m.\u001b[39msplit(\u001b[39m'\u001b[39m\u001b[39m.\u001b[39m\u001b[39m'\u001b[39m)[\u001b[39m0\u001b[39m])\n\u001b[0;32m     <a href='vscode-notebook-cell:/c%3A/Users/luca.acone/OneDrive%20-%20Accenture/Desktop/pagopanew/pagopa-nodo-dei-pagamenti-test/src/integ-test/bdd-test/features/steps/jupyter_notebook.ipynb#W0sZmlsZQ%3D%3D?line=14'>15</a>\u001b[0m     value \u001b[39m=\u001b[39m saved_elem\n",
      "\u001b[1;32mc:\\Users\\luca.acone\\OneDrive - Accenture\\Desktop\\pagopanew\\pagopa-nodo-dei-pagamenti-test\\src\\integ-test\\bdd-test\\features\\steps\\jupyter_notebook.ipynb Cella 1\u001b[0m line \u001b[0;36m1\n\u001b[0;32m      <a href='vscode-notebook-cell:/c%3A/Users/luca.acone/OneDrive%20-%20Accenture/Desktop/pagopanew/pagopa-nodo-dei-pagamenti-test/src/integ-test/bdd-test/features/steps/jupyter_notebook.ipynb#W0sZmlsZQ%3D%3D?line=7'>8</a>\u001b[0m pattern \u001b[39m=\u001b[39m re\u001b[39m.\u001b[39mcompile(\u001b[39m'\u001b[39m\u001b[39m\\\\\u001b[39;00m\u001b[39m$\u001b[39m\u001b[39m\\\\\u001b[39;00m\u001b[39mw+\u001b[39m\u001b[39m\\\\\u001b[39;00m\u001b[39m.\u001b[39m\u001b[39m\\\\\u001b[39;00m\u001b[39mw+(?:-\u001b[39m\u001b[39m\\\\\u001b[39;00m\u001b[39mw+)?\u001b[39m\u001b[39m'\u001b[39m)\n\u001b[0;32m     <a href='vscode-notebook-cell:/c%3A/Users/luca.acone/OneDrive%20-%20Accenture/Desktop/pagopanew/pagopa-nodo-dei-pagamenti-test/src/integ-test/bdd-test/features/steps/jupyter_notebook.ipynb#W0sZmlsZQ%3D%3D?line=9'>10</a>\u001b[0m match \u001b[39m=\u001b[39m pattern\u001b[39m.\u001b[39mfindall(body)\n\u001b[1;32m---> <a href='vscode-notebook-cell:/c%3A/Users/luca.acone/OneDrive%20-%20Accenture/Desktop/pagopanew/pagopa-nodo-dei-pagamenti-test/src/integ-test/bdd-test/features/steps/jupyter_notebook.ipynb#W0sZmlsZQ%3D%3D?line=12'>13</a>\u001b[0m \u001b[39mfor\u001b[39;00m field \u001b[39min\u001b[39;00m match:\n\u001b[0;32m     <a href='vscode-notebook-cell:/c%3A/Users/luca.acone/OneDrive%20-%20Accenture/Desktop/pagopanew/pagopa-nodo-dei-pagamenti-test/src/integ-test/bdd-test/features/steps/jupyter_notebook.ipynb#W0sZmlsZQ%3D%3D?line=13'>14</a>\u001b[0m     saved_elem \u001b[39m=\u001b[39m \u001b[39mgetattr\u001b[39m(context, field\u001b[39m.\u001b[39mreplace(\u001b[39m'\u001b[39m\u001b[39m$\u001b[39m\u001b[39m'\u001b[39m, \u001b[39m'\u001b[39m\u001b[39m'\u001b[39m)\u001b[39m.\u001b[39msplit(\u001b[39m'\u001b[39m\u001b[39m.\u001b[39m\u001b[39m'\u001b[39m)[\u001b[39m0\u001b[39m])\n\u001b[0;32m     <a href='vscode-notebook-cell:/c%3A/Users/luca.acone/OneDrive%20-%20Accenture/Desktop/pagopanew/pagopa-nodo-dei-pagamenti-test/src/integ-test/bdd-test/features/steps/jupyter_notebook.ipynb#W0sZmlsZQ%3D%3D?line=14'>15</a>\u001b[0m     value \u001b[39m=\u001b[39m saved_elem\n",
      "File \u001b[1;32m~\\AppData\\Roaming\\Python\\Python311\\site-packages\\debugpy\\_vendored\\pydevd\\_pydevd_bundle\\pydevd_frame.py:1197\u001b[0m, in \u001b[0;36mPyDBFrame.trace_dispatch\u001b[1;34m(self, frame, event, arg)\u001b[0m\n\u001b[0;32m   1195\u001b[0m \u001b[39mif\u001b[39;00m is_line:\n\u001b[0;32m   1196\u001b[0m     \u001b[39mself\u001b[39m\u001b[39m.\u001b[39mset_suspend(thread, step_cmd, original_step_cmd\u001b[39m=\u001b[39minfo\u001b[39m.\u001b[39mpydev_original_step_cmd)\n\u001b[1;32m-> 1197\u001b[0m     \u001b[39mself\u001b[39;49m\u001b[39m.\u001b[39;49mdo_wait_suspend(thread, frame, event, arg)\n\u001b[0;32m   1198\u001b[0m \u001b[39melif\u001b[39;00m is_return:  \u001b[39m# return event\u001b[39;00m\n\u001b[0;32m   1199\u001b[0m     back \u001b[39m=\u001b[39m frame\u001b[39m.\u001b[39mf_back\n",
      "File \u001b[1;32m~\\AppData\\Roaming\\Python\\Python311\\site-packages\\debugpy\\_vendored\\pydevd\\_pydevd_bundle\\pydevd_frame.py:165\u001b[0m, in \u001b[0;36mPyDBFrame.do_wait_suspend\u001b[1;34m(self, *args, **kwargs)\u001b[0m\n\u001b[0;32m    164\u001b[0m \u001b[39mdef\u001b[39;00m \u001b[39mdo_wait_suspend\u001b[39m(\u001b[39mself\u001b[39m, \u001b[39m*\u001b[39margs, \u001b[39m*\u001b[39m\u001b[39m*\u001b[39mkwargs):\n\u001b[1;32m--> 165\u001b[0m     \u001b[39mself\u001b[39;49m\u001b[39m.\u001b[39;49m_args[\u001b[39m0\u001b[39;49m]\u001b[39m.\u001b[39;49mdo_wait_suspend(\u001b[39m*\u001b[39;49margs, \u001b[39m*\u001b[39;49m\u001b[39m*\u001b[39;49mkwargs)\n",
      "File \u001b[1;32m~\\AppData\\Roaming\\Python\\Python311\\site-packages\\debugpy\\_vendored\\pydevd\\pydevd.py:2070\u001b[0m, in \u001b[0;36mPyDB.do_wait_suspend\u001b[1;34m(self, thread, frame, event, arg, exception_type)\u001b[0m\n\u001b[0;32m   2067\u001b[0m             from_this_thread\u001b[39m.\u001b[39mappend(frame_custom_thread_id)\n\u001b[0;32m   2069\u001b[0m     \u001b[39mwith\u001b[39;00m \u001b[39mself\u001b[39m\u001b[39m.\u001b[39m_threads_suspended_single_notification\u001b[39m.\u001b[39mnotify_thread_suspended(thread_id, thread, stop_reason):\n\u001b[1;32m-> 2070\u001b[0m         keep_suspended \u001b[39m=\u001b[39m \u001b[39mself\u001b[39;49m\u001b[39m.\u001b[39;49m_do_wait_suspend(thread, frame, event, arg, suspend_type, from_this_thread, frames_tracker)\n\u001b[0;32m   2072\u001b[0m frames_list \u001b[39m=\u001b[39m \u001b[39mNone\u001b[39;00m\n\u001b[0;32m   2074\u001b[0m \u001b[39mif\u001b[39;00m keep_suspended:\n\u001b[0;32m   2075\u001b[0m     \u001b[39m# This means that we should pause again after a set next statement.\u001b[39;00m\n",
      "File \u001b[1;32m~\\AppData\\Roaming\\Python\\Python311\\site-packages\\debugpy\\_vendored\\pydevd\\pydevd.py:2106\u001b[0m, in \u001b[0;36mPyDB._do_wait_suspend\u001b[1;34m(self, thread, frame, event, arg, suspend_type, from_this_thread, frames_tracker)\u001b[0m\n\u001b[0;32m   2103\u001b[0m         \u001b[39mself\u001b[39m\u001b[39m.\u001b[39m_call_input_hook()\n\u001b[0;32m   2105\u001b[0m     \u001b[39mself\u001b[39m\u001b[39m.\u001b[39mprocess_internal_commands()\n\u001b[1;32m-> 2106\u001b[0m     time\u001b[39m.\u001b[39msleep(\u001b[39m0.01\u001b[39m)\n\u001b[0;32m   2108\u001b[0m \u001b[39mself\u001b[39m\u001b[39m.\u001b[39mcancel_async_evaluation(get_current_thread_id(thread), \u001b[39mstr\u001b[39m(\u001b[39mid\u001b[39m(frame)))\n\u001b[0;32m   2110\u001b[0m \u001b[39m# process any stepping instructions\u001b[39;00m\n",
      "\u001b[1;31mKeyboardInterrupt\u001b[0m: "
     ]
    }
   ],
   "source": [
    "import re\n",
    "\n",
    "\n",
    "body = \"SELECT columns FROM table_name WHERE NOTICE_ID = $activatePaymentNotice.noticeNumber AND PA_FISCAL_CODE = $activatePaymentNotice.fiscalCode AND PAYMENT_TOKEN = $activatePaymentNoticeResponse.paymentToken-v2\"\n",
    "\n",
    "#pattern = re.compile('\\\\$\\\\w+\\\\.\\\\w+')\n",
    "#pattern = re.compile(r'\\$\\w+\\.\\w+(?:-v2)?')\n",
    "pattern = re.compile('\\\\$\\\\w+\\\\.\\\\w+(?:-\\\\w+)?')\n",
    "\n",
    "match = pattern.findall(body)\n",
    "\n",
    "\n",
    "for field in match:\n",
    "    saved_elem = getattr(context, field.replace('$', '').split('.')[0])\n",
    "    value = saved_elem\n",
    "    if len(field.replace('$', '').split('.')) > 1:\n",
    "        tag = field.replace('$', '').split('.')[1]\n",
    "        if isinstance(saved_elem, str):\n",
    "            document = parseString(saved_elem)\n",
    "        else:\n",
    "            document = parseString(saved_elem.content)\n",
    "            print(tag)\n",
    "        value = document.getElementsByTagNameNS(\n",
    "            '*', tag)[0].firstChild.data\n",
    "    body = body.replace(field, f'$${value}$$')"
   ]
  }
 ],
 "metadata": {
  "kernelspec": {
   "display_name": "Python 3",
   "language": "python",
   "name": "python3"
  },
  "language_info": {
   "codemirror_mode": {
    "name": "ipython",
    "version": 3
   },
   "file_extension": ".py",
   "mimetype": "text/x-python",
   "name": "python",
   "nbconvert_exporter": "python",
   "pygments_lexer": "ipython3",
   "version": "3.11.3"
  }
 },
 "nbformat": 4,
 "nbformat_minor": 2
}
