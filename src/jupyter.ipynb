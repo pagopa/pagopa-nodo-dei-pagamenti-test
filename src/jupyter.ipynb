{
 "cells": [
  {
   "cell_type": "code",
   "execution_count": null,
   "metadata": {},
   "outputs": [],
   "source": [
    "import requests\n",
    "\n",
    "def fetch_url_with_proxy_auth(url, proxy, username, password):\n",
    "    try:\n",
    "        response = requests.get(url, proxies={\"http\": proxy, \"https\": proxy}, auth=(username, password))\n",
    "        # Puoi fare qualcosa con la risposta qui, ad esempio leggerla o analizzarla\n",
    "        print(response.text)\n",
    "    except requests.exceptions.RequestException as e:\n",
    "        print(\"Errore durante la richiesta:\", e)\n",
    "\n",
    "# Esempio di utilizzo con autenticazione\n",
    "url = \"https://api.dev.platform.pagopa.it:82/apiconfig/testing-support/pnexi/v1\"\n",
    "proxy = \"http://cipchtritonws01.office.corp.sia.it:8080\"  # Sostituisci con i dettagli del tuo proxy\n",
    "username = \"OFFICE\\CO0C484\"\n",
    "password = \"Napoli12345!\"\n",
    "fetch_url_with_proxy_auth(url, proxy, username, password)"
   ]
  },
  {
   "cell_type": "code",
   "execution_count": null,
   "metadata": {},
   "outputs": [],
   "source": [
    "my_cred = {\n",
    "    'username': 'OFFICE\\CO0C484',\n",
    "    'password': 'Napoli12345!',\n",
    "}\n",
    "\n",
    "my_cred.get(\"username\")"
   ]
  },
  {
   "cell_type": "code",
   "execution_count": null,
   "metadata": {},
   "outputs": [],
   "source": [
    "import json\n",
    "\n",
    "# Stringa JSON da deserializzare\n",
    "json_string = '''\n",
    "{\n",
    "    \"positionslist\": [\n",
    "        {\n",
    "            \"fiscalCode\": \"#creditor_institution_code#\",\n",
    "            \"noticeNumber\": \"302#iuv#\"\n",
    "        },\n",
    "        {\n",
    "            \"fiscalCode\": \"#creditor_institution_code#\",\n",
    "            \"noticeNumber\": \"302#iuv1#\"\n",
    "        }\n",
    "    ]\n",
    "}\n",
    "'''\n",
    "\n",
    "# Deserializzazione della stringa JSON in un oggetto Python\n",
    "object_from_json = json.loads(json_string)\n",
    "\n",
    "print(\"Oggetto Python deserializzato:\")\n",
    "print(object_from_json)\n",
    "print(type(object_from_json.get('positionslist')))"
   ]
  },
  {
   "cell_type": "code",
   "execution_count": 26,
   "metadata": {},
   "outputs": [
    {
     "name": "stdout",
     "output_type": "stream",
     "text": [
      "la chiave cercata è: [('fiscalCode', ['positionslist', 0, 'fiscalCode']), ('fiscalCode', ['positionslist', 1, 'fiscalCode'])]\n",
      "il valore è: [{'fiscalCode': '#creditor_institution_code#', 'noticeNumber': '302#iuv#'}, {'fiscalCode': '#creditor_institution_code#', 'noticeNumber': '302#iuv1#'}]\n"
     ]
    }
   ],
   "source": [
    "def ricerca_chiavi(obj, ricerca, chiavi_trovate=None):\n",
    "    if chiavi_trovate is None:\n",
    "        chiavi_trovate = set()\n",
    "\n",
    "    if isinstance(obj, dict):\n",
    "        for chiave, valore in obj.items():\n",
    "            if chiave == ricerca:\n",
    "                chiavi_trovate.add(chiave)\n",
    "            ricerca_chiavi(valore, ricerca, chiavi_trovate)\n",
    "    elif isinstance(obj, list):\n",
    "        for elemento in obj:\n",
    "            ricerca_chiavi(elemento, ricerca, chiavi_trovate)\n",
    "\n",
    "    return list(chiavi_trovate)\n",
    "\n",
    "def ricerca_chiavi_con_percorso(obj, ricerca, percorso=None, chiavi_trovate=None):\n",
    "    if percorso is None:\n",
    "        percorso = []\n",
    "    if chiavi_trovate is None:\n",
    "        chiavi_trovate = []\n",
    "\n",
    "    if isinstance(obj, dict):\n",
    "        for chiave, valore in obj.items():\n",
    "            nuovo_percorso = percorso + [chiave]\n",
    "            if chiave == ricerca:\n",
    "                chiavi_trovate.append((chiave, nuovo_percorso))\n",
    "            ricerca_chiavi_con_percorso(valore, ricerca, nuovo_percorso, chiavi_trovate)\n",
    "    elif isinstance(obj, list):\n",
    "        for i, elemento in enumerate(obj):\n",
    "            nuovo_percorso = percorso + [i]\n",
    "            ricerca_chiavi_con_percorso(elemento, ricerca, nuovo_percorso, chiavi_trovate)\n",
    "\n",
    "    return chiavi_trovate\n",
    "\n",
    "# Oggetto Python deserializzato\n",
    "object_from_json = {\n",
    "    \"positionslist\": [\n",
    "        {\"fiscalCode\": \"#creditor_institution_code#\", \"noticeNumber\": \"302#iuv#\"},\n",
    "        {\"fiscalCode\": \"#creditor_institution_code#\", \"noticeNumber\": \"302#iuv1#\"}\n",
    "    ]\n",
    "}\n",
    "\n",
    "# Chiave da cercare\n",
    "chiave_ricerca = \"fiscalCode\"\n",
    "\n",
    "# Esegui la ricerca\n",
    "chiave_trovata = ricerca_chiavi_con_percorso(object_from_json, chiave_ricerca)\n",
    "print(f\"la chiave cercata è: {chiave_trovata}\")\n",
    "print(f\"il valore è: {object_from_json['positionslist']}\")\n",
    "#ricerca_all_chiavi(object_from_json, chiave_ricerca)"
   ]
  }
 ],
 "metadata": {
  "kernelspec": {
   "display_name": "Python 3",
   "language": "python",
   "name": "python3"
  },
  "language_info": {
   "codemirror_mode": {
    "name": "ipython",
    "version": 3
   },
   "file_extension": ".py",
   "mimetype": "text/x-python",
   "name": "python",
   "nbconvert_exporter": "python",
   "pygments_lexer": "ipython3",
   "version": "3.11.3"
  }
 },
 "nbformat": 4,
 "nbformat_minor": 2
}
