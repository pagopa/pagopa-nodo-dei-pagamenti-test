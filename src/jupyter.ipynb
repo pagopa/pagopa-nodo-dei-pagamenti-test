{
 "cells": [
  {
   "cell_type": "code",
   "execution_count": 8,
   "metadata": {},
   "outputs": [
    {
     "name": "stdout",
     "output_type": "stream",
     "text": [
      "Errore durante la richiesta: HTTPSConnectionPool(host='api.dev.platform.pagopa.it', port=82): Max retries exceeded with url: /apiconfig/testing-support/pnexi/v1 (Caused by ProxyError('Cannot connect to proxy.', OSError('Tunnel connection failed: 403 Tunnel or SSL Forbidden')))\n"
     ]
    }
   ],
   "source": [
    "import requests\n",
    "\n",
    "def fetch_url_with_proxy_auth(url, proxy, username, password):\n",
    "    try:\n",
    "        response = requests.get(url, proxies={\"http\": proxy, \"https\": proxy}, auth=(username, password))\n",
    "        # Puoi fare qualcosa con la risposta qui, ad esempio leggerla o analizzarla\n",
    "        print(response.text)\n",
    "    except requests.exceptions.RequestException as e:\n",
    "        print(\"Errore durante la richiesta:\", e)\n",
    "\n",
    "# Esempio di utilizzo con autenticazione\n",
    "url = \"https://api.dev.platform.pagopa.it:82/apiconfig/testing-support/pnexi/v1\"\n",
    "proxy = \"http://cipchtritonws01.office.corp.sia.it:8080\"  # Sostituisci con i dettagli del tuo proxy\n",
    "username = \"OFFICE\\CO0C484\"\n",
    "password = \"Napoli12345!\"\n",
    "fetch_url_with_proxy_auth(url, proxy, username, password)"
   ]
  },
  {
   "cell_type": "code",
   "execution_count": 1,
   "metadata": {},
   "outputs": [
    {
     "data": {
      "text/plain": [
       "'OFFICE\\\\CO0C484'"
      ]
     },
     "execution_count": 1,
     "metadata": {},
     "output_type": "execute_result"
    }
   ],
   "source": [
    "my_cred = {\n",
    "    'username': 'OFFICE\\CO0C484',\n",
    "    'password': 'Napoli12345!',\n",
    "}\n",
    "\n",
    "my_cred.get(\"username\")"
   ]
  }
 ],
 "metadata": {
  "kernelspec": {
   "display_name": "Python 3",
   "language": "python",
   "name": "python3"
  },
  "language_info": {
   "codemirror_mode": {
    "name": "ipython",
    "version": 3
   },
   "file_extension": ".py",
   "mimetype": "text/x-python",
   "name": "python",
   "nbconvert_exporter": "python",
   "pygments_lexer": "ipython3",
   "version": "3.11.3"
  }
 },
 "nbformat": 4,
 "nbformat_minor": 2
}
